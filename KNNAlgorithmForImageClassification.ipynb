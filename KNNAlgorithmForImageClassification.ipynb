{
  "cells": [
    {
      "cell_type": "markdown",
      "metadata": {
        "id": "view-in-github",
        "colab_type": "text"
      },
      "source": [
        "<a href=\"https://colab.research.google.com/github/ManishManda/KNNAlgorithm/blob/main/KNNAlgorithmForImageClassification.ipynb\" target=\"_parent\"><img src=\"https://colab.research.google.com/assets/colab-badge.svg\" alt=\"Open In Colab\"/></a>"
      ]
    },
    {
      "cell_type": "code",
      "execution_count": null,
      "id": "63f2c340",
      "metadata": {
        "id": "63f2c340"
      },
      "outputs": [],
      "source": [
        "import matplotlib.pyplot as plt\n",
        "import matplotlib.image as mpimg\n",
        "import os\n",
        "import numpy as np\n",
        "from PIL import Image\n",
        "from sklearn import neighbors\n",
        "from sklearn import metrics\n",
        "import glob\n",
        "from sklearn.model_selection import train_test_split\n",
        "from sklearn.neighbors import KNeighborsClassifier\n",
        "from sklearn.metrics import confusion_matrix, accuracy_score\n",
        "import seaborn as sns\n",
        "import os\n",
        "from PIL import Image\n",
        "import glob\n",
        "import random"
      ]
    },
    {
      "cell_type": "markdown",
      "id": "db29810d",
      "metadata": {
        "id": "db29810d"
      },
      "source": [
        "# Import the glob module to search for files matching a specified pattern"
      ]
    },
    {
      "cell_type": "code",
      "execution_count": null,
      "id": "7221a982",
      "metadata": {
        "id": "7221a982"
      },
      "outputs": [],
      "source": [
        "# Glob for all JPEGs.\n",
        "normal_ = []\n",
        "drag_disc= []\n",
        "laser_spot=[]\n",
        "\n",
        "for normal in glob.glob('normal*'):\n",
        "    normal_.append(normal)\n",
        "\n",
        "for glucoma in glob.glob('dragdisc*'):\n",
        "    drag_disc.append(glucoma)\n",
        "\n",
        "for laserspot in glob.glob('laserspot*'):\n",
        "    laser_spot.append(laserspot)\n",
        ""
      ]
    },
    {
      "cell_type": "markdown",
      "id": "38438f0d",
      "metadata": {
        "id": "38438f0d"
      },
      "source": [
        "# appending all images into single list"
      ]
    },
    {
      "cell_type": "code",
      "execution_count": null,
      "id": "43489e3d",
      "metadata": {
        "id": "43489e3d"
      },
      "outputs": [],
      "source": [
        "all_images=[]\n",
        "\n",
        "all_images=normal_+drag_disc+laser_spot"
      ]
    },
    {
      "cell_type": "code",
      "execution_count": null,
      "id": "4be96f98",
      "metadata": {
        "id": "4be96f98",
        "outputId": "0611e580-8868-4969-e779-b6712303f8f5"
      },
      "outputs": [
        {
          "data": {
            "text/plain": [
              "['normal1.JPG',\n",
              " 'normal10.JPG',\n",
              " 'normal11.JPG',\n",
              " 'normal12.JPG',\n",
              " 'normal13.JPG',\n",
              " 'normal14.JPG',\n",
              " 'normal15.JPG',\n",
              " 'normal16.JPG',\n",
              " 'normal17.JPG',\n",
              " 'normal18.JPG',\n",
              " 'normal19.JPG',\n",
              " 'normal2.JPG',\n",
              " 'normal20.JPG',\n",
              " 'normal21.JPG',\n",
              " 'normal22.JPG',\n",
              " 'normal23.JPG',\n",
              " 'normal24.JPG',\n",
              " 'normal25.JPG',\n",
              " 'normal26.JPG',\n",
              " 'normal27.JPG',\n",
              " 'normal28.JPG',\n",
              " 'normal29.JPG',\n",
              " 'normal3.JPG',\n",
              " 'normal30.JPG',\n",
              " 'normal31.JPG',\n",
              " 'normal32.JPG',\n",
              " 'normal33.JPG',\n",
              " 'normal34.JPG',\n",
              " 'normal35.JPG',\n",
              " 'normal36.JPG',\n",
              " 'normal37.JPG',\n",
              " 'normal38.JPG',\n",
              " 'normal4.JPG',\n",
              " 'normal5.JPG',\n",
              " 'normal6.JPG',\n",
              " 'normal7.JPG',\n",
              " 'normal8.JPG',\n",
              " 'normal9.JPG',\n",
              " 'dragdisc1.JPG',\n",
              " 'dragdisc10.JPG',\n",
              " 'dragdisc2.JPG',\n",
              " 'dragdisc3.JPG',\n",
              " 'dragdisc4.JPG',\n",
              " 'dragdisc5.JPG',\n",
              " 'dragdisc6.JPG',\n",
              " 'dragdisc7.JPG',\n",
              " 'dragdisc8.JPG',\n",
              " 'dragdisc9.JPG',\n",
              " 'laserspot1.JPG',\n",
              " 'laserspot10.JPG',\n",
              " 'laserspot11.JPG',\n",
              " 'laserspot12.JPG',\n",
              " 'laserspot13.JPG',\n",
              " 'laserspot14.JPG',\n",
              " 'laserspot15.JPG',\n",
              " 'laserspot16.JPG',\n",
              " 'laserspot17.JPG',\n",
              " 'laserspot18.JPG',\n",
              " 'laserspot19.JPG',\n",
              " 'laserspot2.JPG',\n",
              " 'laserspot20.JPG',\n",
              " 'laserspot3.JPG',\n",
              " 'laserspot4.JPG',\n",
              " 'laserspot5.JPG',\n",
              " 'laserspot6.JPG',\n",
              " 'laserspot7.JPG',\n",
              " 'laserspot8.JPG']"
            ]
          },
          "execution_count": 4,
          "metadata": {},
          "output_type": "execute_result"
        }
      ],
      "source": [
        "all_images"
      ]
    },
    {
      "cell_type": "code",
      "execution_count": null,
      "id": "52632948",
      "metadata": {
        "id": "52632948",
        "outputId": "8a2a7b26-95f0-4da8-ef0d-84bbfc11bf15"
      },
      "outputs": [
        {
          "name": "stdout",
          "output_type": "stream",
          "text": [
            "38\n",
            "48\n"
          ]
        }
      ],
      "source": [
        "normal_green = []\n",
        "normal_red = []\n",
        "normal_blue = []\n",
        "drag_disc_green = []\n",
        "drag_disc_red = []\n",
        "drag_disc_blue = []\n",
        "laser_spot_red=[]\n",
        "laser_spot_blue=[]\n",
        "laser_spot_green=[]\n",
        "\n",
        "\n",
        "print(len(normal_))\n",
        "print(len(normal_)+len(drag_disc))\n"
      ]
    },
    {
      "cell_type": "markdown",
      "id": "6e92335e",
      "metadata": {
        "id": "6e92335e"
      },
      "source": [
        "# This code calculates the percentage of red, green, and blue pixels in each image and stores them in separate lists based on the type of image (normal, drag disc, or laser spot).\n",
        "# It iterates through the images, calculates the average RGB values, and then computes the\n",
        "# percentage of each color channel relative to the sum of all color channels.\n",
        "# Finally, it appends these percentages to the appropriate lists.\n",
        "# The lists are normal_green, normal_blue, and normal_red for normal images;\n",
        "# drag_disc_green, drag_disc_blue, and drag_disc_red for drag disc images; and\n",
        "# laser_spot_green, laser_spot_blue, and laser_spot_red for laser spot images.\n"
      ]
    },
    {
      "cell_type": "code",
      "execution_count": null,
      "id": "409046cf",
      "metadata": {
        "id": "409046cf"
      },
      "outputs": [],
      "source": [
        "for image in all_images[:len(normal_)]:\n",
        "    img = mpimg.imread(image)\n",
        "    RGBtuple = np.array(img).mean(axis=(0,1))\n",
        "    averageRed = RGBtuple[0]\n",
        "    averageGreen = RGBtuple[1]\n",
        "    averageBlue = RGBtuple[2]\n",
        "    percentage_green = averageGreen/(averageGreen+averageBlue+averageRed)\n",
        "    percentage_blue = averageBlue/(averageGreen+averageBlue+averageRed)\n",
        "    percentage_red = averageRed/(averageGreen+averageBlue+averageRed)\n",
        "    normal_green.append(percentage_green)\n",
        "    normal_blue.append(percentage_blue)\n",
        "    normal_red.append(percentage_red)\n",
        "\n",
        "for image in all_images[len(normal_):len(normal_)+len(drag_disc)]:\n",
        "    img = mpimg.imread(image)\n",
        "    RGBtuple = np.array(img).mean(axis=(0,1))\n",
        "    averageRed = RGBtuple[0]\n",
        "    averageGreen = RGBtuple[1]\n",
        "    averageBlue = RGBtuple[2]\n",
        "    percentage_green = averageGreen/(averageGreen+averageBlue+averageRed)\n",
        "    percentage_blue = averageBlue/(averageGreen+averageBlue+averageRed)\n",
        "    percentage_red = averageRed/(averageGreen+averageBlue+averageRed)\n",
        "    drag_disc_green.append(percentage_green)\n",
        "    drag_disc_blue.append(percentage_blue)\n",
        "    drag_disc_red.append(percentage_red)\n",
        "\n",
        "for image in all_images[len(normal_)+len(drag_disc):]:\n",
        "    img = mpimg.imread(image)\n",
        "    RGBtuple = np.array(img).mean(axis=(0,1))\n",
        "    averageRed = RGBtuple[0]\n",
        "    averageGreen = RGBtuple[1]\n",
        "    averageBlue = RGBtuple[2]\n",
        "    percentage_green = averageGreen/(averageGreen+averageBlue+averageRed)\n",
        "    percentage_blue = averageBlue/(averageGreen+averageBlue+averageRed)\n",
        "    percentage_red = averageRed/(averageGreen+averageBlue+averageRed)\n",
        "    laser_spot_green.append(percentage_green)\n",
        "    laser_spot_blue.append(percentage_blue)\n",
        "    laser_spot_red.append(percentage_red)"
      ]
    },
    {
      "cell_type": "code",
      "execution_count": null,
      "id": "be050383",
      "metadata": {
        "id": "be050383"
      },
      "outputs": [],
      "source": [
        "random.shuffle(all_images)"
      ]
    },
    {
      "cell_type": "code",
      "execution_count": null,
      "id": "f6092f44",
      "metadata": {
        "id": "f6092f44",
        "outputId": "e0746d0e-f5a0-42ec-ba8e-4919da4b3d1b"
      },
      "outputs": [
        {
          "name": "stdout",
          "output_type": "stream",
          "text": [
            "19\n"
          ]
        }
      ],
      "source": [
        "print(len(laser_spot_red))"
      ]
    },
    {
      "cell_type": "code",
      "execution_count": null,
      "id": "f22a8bc9",
      "metadata": {
        "id": "f22a8bc9",
        "outputId": "083f0646-2da2-44ff-dc7f-0d838d502e01"
      },
      "outputs": [
        {
          "name": "stdout",
          "output_type": "stream",
          "text": [
            "10\n"
          ]
        }
      ],
      "source": [
        "print(len( drag_disc_green))"
      ]
    },
    {
      "cell_type": "code",
      "execution_count": null,
      "id": "9932e6bd",
      "metadata": {
        "id": "9932e6bd",
        "outputId": "0e9c0795-7143-4223-9914-021e0887d583"
      },
      "outputs": [
        {
          "name": "stdout",
          "output_type": "stream",
          "text": [
            "['laserspot1.JPG', 'normal29.JPG', 'normal27.JPG', 'normal6.JPG', 'laserspot11.JPG', 'normal14.JPG', 'normal12.JPG', 'laserspot13.JPG', 'normal32.JPG', 'laserspot6.JPG', 'normal9.JPG', 'normal16.JPG', 'laserspot14.JPG', 'normal26.JPG', 'normal36.JPG', 'normal38.JPG', 'normal34.JPG', 'laserspot7.JPG', 'laserspot17.JPG', 'normal11.JPG', 'laserspot19.JPG', 'laserspot4.JPG', 'laserspot12.JPG', 'dragdisc4.JPG', 'normal20.JPG', 'normal10.JPG', 'normal15.JPG', 'dragdisc8.JPG', 'laserspot5.JPG', 'normal13.JPG', 'normal24.JPG', 'dragdisc10.JPG', 'normal19.JPG', 'dragdisc6.JPG', 'normal30.JPG', 'normal17.JPG', 'normal3.JPG', 'normal18.JPG', 'laserspot16.JPG', 'normal4.JPG', 'normal7.JPG', 'dragdisc9.JPG', 'normal1.JPG', 'dragdisc1.JPG', 'normal25.JPG', 'laserspot2.JPG', 'dragdisc7.JPG', 'normal28.JPG', 'normal22.JPG', 'normal5.JPG', 'dragdisc5.JPG', 'dragdisc3.JPG', 'laserspot3.JPG', 'laserspot8.JPG', 'normal37.JPG', 'normal8.JPG', 'normal23.JPG', 'normal35.JPG', 'laserspot20.JPG', 'laserspot15.JPG', 'laserspot18.JPG', 'laserspot10.JPG', 'normal2.JPG', 'dragdisc2.JPG', 'normal21.JPG', 'normal33.JPG', 'normal31.JPG']\n"
          ]
        }
      ],
      "source": [
        "print(all_images)"
      ]
    },
    {
      "cell_type": "code",
      "execution_count": null,
      "id": "67e8a853",
      "metadata": {
        "id": "67e8a853",
        "outputId": "ad53da99-5be6-4341-d142-62649176fc97"
      },
      "outputs": [
        {
          "name": "stdout",
          "output_type": "stream",
          "text": [
            "['laserspot', 'normal', 'normal', 'normal', 'laserspot', 'normal', 'normal', 'laserspot', 'normal', 'laserspot', 'normal', 'normal', 'laserspot', 'normal', 'normal', 'normal', 'normal', 'laserspot', 'laserspot', 'normal', 'laserspot', 'laserspot', 'laserspot', 'dragdisc', 'normal', 'normal', 'normal', 'dragdisc', 'laserspot', 'normal', 'normal', 'dragdisc', 'normal', 'dragdisc', 'normal', 'normal', 'normal', 'normal', 'laserspot', 'normal', 'normal', 'dragdisc', 'normal', 'dragdisc', 'normal', 'laserspot', 'dragdisc', 'normal', 'normal', 'normal', 'dragdisc', 'dragdisc', 'laserspot', 'laserspot', 'normal', 'normal', 'normal', 'normal', 'laserspot', 'laserspot', 'laserspot', 'laserspot', 'normal', 'dragdisc', 'normal', 'normal', 'normal'] # of labels:  67\n"
          ]
        }
      ],
      "source": [
        "# strip filename extension and trailing digits. so, we can use them as labels\n",
        "all_labels = []\n",
        "all_image_labels = [os.path.splitext(each)[0] for each in all_images]\n",
        "import string\n",
        "for i in range(len(all_image_labels)):\n",
        "    all_labels.append(all_image_labels[i].rstrip(string.digits))\n",
        "\n",
        "print(all_labels, \"# of labels: \", len(all_labels))"
      ]
    },
    {
      "cell_type": "code",
      "execution_count": null,
      "id": "7cbe120d",
      "metadata": {
        "id": "7cbe120d",
        "outputId": "3550ff2f-44ad-4596-f07f-b46b4c739251"
      },
      "outputs": [
        {
          "name": "stdout",
          "output_type": "stream",
          "text": [
            "53 13\n"
          ]
        }
      ],
      "source": [
        "random.shuffle(all_images)\n",
        "train_size = int(len(all_images) * 0.80)\n",
        "test_size = int(len(all_images) * 0.20)\n",
        "print (train_size, test_size)"
      ]
    },
    {
      "cell_type": "code",
      "execution_count": null,
      "id": "4ae28a76",
      "metadata": {
        "id": "4ae28a76"
      },
      "outputs": [],
      "source": [
        "import shutil\n",
        "dest_path = \"data1/\"\n",
        "data_path = os.getcwd()\n",
        "\n",
        "# path to destination folders\n",
        "train_folder = os.path.join(dest_path, 'train')\n",
        "test_folder = os.path.join(dest_path, 'test')\n",
        "\n",
        "# Define a list of image extensions\n",
        "image_extensions = ['.JPG']\n",
        "\n",
        "# Create a list of image filenames in 'dest_path'\n",
        "imgs_list = [filename for filename in os.listdir(data_path) if os.path.splitext(filename)[-1] in image_extensions]\n",
        "\n",
        "# Create destination folders if they don't exist\n",
        "for folder_path in [train_folder, test_folder]:\n",
        "    if not os.path.exists(folder_path):\n",
        "        os.makedirs(folder_path)\n",
        "\n",
        "# Copy image files to destination folders.\n",
        "# Make a copy of training data for processing here\n",
        "training_data = []\n",
        "for i, f in enumerate(all_images):\n",
        "    if i < train_size:\n",
        "        dest_folder = train_folder\n",
        "    else:\n",
        "        dest_folder = test_folder\n",
        "    shutil.copy(os.path.join(data_path, f), os.path.join(dest_folder, f))\n",
        "\n",
        "    #setup training data copy for local processing\n",
        "    training_data.append(f)"
      ]
    },
    {
      "cell_type": "code",
      "execution_count": null,
      "id": "4cf9398e",
      "metadata": {
        "id": "4cf9398e"
      },
      "outputs": [],
      "source": [
        "#collect labels from training_data\n",
        "img_labels = [os.path.splitext(each)[0] for each in training_data]"
      ]
    },
    {
      "cell_type": "code",
      "execution_count": null,
      "id": "5256af34",
      "metadata": {
        "id": "5256af34",
        "outputId": "d38fca83-74c1-4816-b1fe-38bc30d95bb0"
      },
      "outputs": [
        {
          "name": "stdout",
          "output_type": "stream",
          "text": [
            "['laserspot', 'dragdisc', 'laserspot', 'normal', 'normal', 'normal', 'normal', 'dragdisc', 'normal', 'normal', 'normal', 'normal', 'normal', 'dragdisc', 'normal', 'laserspot', 'laserspot', 'normal', 'normal', 'normal', 'dragdisc', 'normal', 'normal', 'laserspot', 'laserspot', 'normal', 'laserspot', 'normal', 'laserspot', 'normal', 'normal', 'dragdisc', 'normal', 'normal', 'normal', 'normal', 'laserspot', 'laserspot', 'normal', 'laserspot', 'laserspot', 'dragdisc', 'dragdisc', 'laserspot', 'normal', 'laserspot', 'normal', 'dragdisc', 'normal', 'laserspot', 'laserspot', 'normal', 'laserspot', 'normal', 'laserspot', 'dragdisc', 'normal', 'normal', 'normal', 'normal', 'laserspot', 'normal', 'normal', 'dragdisc', 'normal', 'normal', 'normal'] # of labels:  67\n"
          ]
        }
      ],
      "source": [
        "#strip leading digits from image filenames.\n",
        "import string\n",
        "training_labels = []\n",
        "for i in range(len(img_labels)):\n",
        "    training_labels.append(img_labels[i].rstrip(string.digits))\n",
        "print(training_labels, \"# of labels: \", len(training_labels))"
      ]
    },
    {
      "cell_type": "code",
      "execution_count": null,
      "id": "a6548069",
      "metadata": {
        "id": "a6548069",
        "outputId": "f0e891f2-7f23-42b4-845b-0412afbc6275"
      },
      "outputs": [
        {
          "name": "stdout",
          "output_type": "stream",
          "text": [
            "['dragdisc1', 'dragdisc3', 'dragdisc4', 'dragdisc6', 'laserspot13', 'laserspot14', 'laserspot15', 'laserspot18', 'laserspot19', 'laserspot2', 'laserspot20', 'laserspot5', 'normal1', 'normal10', 'normal12', 'normal14', 'normal17', 'normal18', 'normal19', 'normal2', 'normal26', 'normal28', 'normal30', 'normal31', 'normal33', 'normal34', 'normal35', 'normal37', 'normal7', 'normal8', 'normal9']\n"
          ]
        }
      ],
      "source": [
        "# Glob for all JPEGs.\n",
        "test = './data1/test/'\n",
        "test_data = [filename for filename in os.listdir(test) if os.path.splitext(filename)[-1] in image_extensions]\n",
        "#strip trailing digits from the files and use them as labels\n",
        "test_data_noext = [os.path.splitext(each)[0] for each in test_data]\n",
        "print(test_data_noext)"
      ]
    },
    {
      "cell_type": "code",
      "execution_count": null,
      "id": "c135dc7d",
      "metadata": {
        "id": "c135dc7d",
        "outputId": "96971660-0201-4ef9-f52a-9f0a161aa1f7"
      },
      "outputs": [
        {
          "name": "stdout",
          "output_type": "stream",
          "text": [
            "['dragdisc1', 'dragdisc3', 'dragdisc4', 'dragdisc6', 'laserspot13', 'laserspot14', 'laserspot15', 'laserspot18', 'laserspot19', 'laserspot2', 'laserspot20', 'laserspot5', 'normal1', 'normal10', 'normal12', 'normal14', 'normal17', 'normal18', 'normal19', 'normal2', 'normal26', 'normal28', 'normal30', 'normal31', 'normal33', 'normal34', 'normal35', 'normal37', 'normal7', 'normal8', 'normal9']\n",
            "['dragdisc', 'dragdisc', 'dragdisc', 'dragdisc', 'laserspot', 'laserspot', 'laserspot', 'laserspot', 'laserspot', 'laserspot', 'laserspot', 'laserspot', 'normal', 'normal', 'normal', 'normal', 'normal', 'normal', 'normal', 'normal', 'normal', 'normal', 'normal', 'normal', 'normal', 'normal', 'normal', 'normal', 'normal', 'normal', 'normal']\n"
          ]
        }
      ],
      "source": [
        "#collect labels from training_data\n",
        "img_labels = [os.path.splitext(each)[0] for each in training_data]\n",
        "#strip trailing digits from the files and use them as labels\n",
        "test_data_noext = [os.path.splitext(each)[0] for each in test_data]\n",
        "print(test_data_noext)\n",
        "#prepare test_data labels: strip trailing digits\n",
        "test_labels = []\n",
        "import string\n",
        "for i in range(len(test_data_noext)):\n",
        "    test_labels.append(test_data_noext[i].rstrip(string.digits))\n",
        "print(test_labels)"
      ]
    },
    {
      "cell_type": "code",
      "execution_count": null,
      "id": "96ef9b26",
      "metadata": {
        "id": "96ef9b26"
      },
      "outputs": [],
      "source": [
        "training_data_ = np.zeros((len(training_labels),3))"
      ]
    },
    {
      "cell_type": "code",
      "execution_count": null,
      "id": "0c055152",
      "metadata": {
        "id": "0c055152"
      },
      "outputs": [],
      "source": []
    },
    {
      "cell_type": "markdown",
      "id": "5c4b8310",
      "metadata": {
        "id": "5c4b8310"
      },
      "source": [
        "# Assigns RGB values from respective lists to training data based on image labels, using separate indices for each label type.\n",
        "# Resulting training_data_ array contains RGB values for normal, drag disc, and laser spot images in respective columns.\n"
      ]
    },
    {
      "cell_type": "code",
      "execution_count": null,
      "id": "247ff615",
      "metadata": {
        "id": "247ff615"
      },
      "outputs": [],
      "source": [
        "#create RGB arrays for normal and glucoma images\n",
        "normal_index = 0\n",
        "glucoma_index = 0\n",
        "laser_spot_index=0\n",
        "index=0\n",
        "for i in range(len(training_labels)-1):\n",
        "    if training_labels[i] == 'normal':\n",
        "        training_data_[i,0] = normal_red[normal_index]\n",
        "        training_data_[i,1] = normal_blue[normal_index]\n",
        "        training_data_[i,2] = normal_green[normal_index]\n",
        "        normal_index=normal_index+1\n",
        "        index = index + 1\n",
        "    if training_labels[i] == 'dragdisc':\n",
        "        #print (\"added an element for glucoma\", i)\n",
        "        training_data_[i,0] = drag_disc_red[glucoma_index]\n",
        "        training_data_[i,1] = drag_disc_blue[glucoma_index]\n",
        "        training_data_[i,2] = drag_disc_green[glucoma_index]\n",
        "        glucoma_index=glucoma_index+1\n",
        "        index = index + 1\n",
        "    if training_labels[i] == 'laserspot':\n",
        "        training_data_[i,0] = laser_spot_red[laser_spot_index]\n",
        "        training_data_[i,1] = laser_spot_blue[laser_spot_index]\n",
        "        training_data_[i,2] = laser_spot_green[laser_spot_index]\n",
        "        laser_spot_index=laser_spot_index+1\n",
        "        index = index + 1\n",
        ""
      ]
    },
    {
      "cell_type": "code",
      "execution_count": null,
      "id": "3ff72201",
      "metadata": {
        "id": "3ff72201"
      },
      "outputs": [],
      "source": [
        "test_data_ = np.zeros((len(test_labels),3))"
      ]
    },
    {
      "cell_type": "code",
      "execution_count": null,
      "id": "d033f28b",
      "metadata": {
        "id": "d033f28b"
      },
      "outputs": [],
      "source": [
        "\n"
      ]
    },
    {
      "cell_type": "code",
      "execution_count": null,
      "id": "16c4289d",
      "metadata": {
        "id": "16c4289d",
        "outputId": "c01b9800-f4fd-4edf-bb84-41fa66b20f37"
      },
      "outputs": [
        {
          "name": "stdout",
          "output_type": "stream",
          "text": [
            "67\n"
          ]
        }
      ],
      "source": [
        "print(len(training_data_))"
      ]
    },
    {
      "cell_type": "markdown",
      "id": "aa13a0c5",
      "metadata": {
        "id": "aa13a0c5"
      },
      "source": [
        " # Create a KNeighborsClassifier object (k2) with specified parameters:"
      ]
    },
    {
      "cell_type": "code",
      "execution_count": null,
      "id": "02bc18c7",
      "metadata": {
        "id": "02bc18c7",
        "outputId": "981adef7-1cc9-48a1-9d8f-43327b8f1fec"
      },
      "outputs": [
        {
          "data": {
            "text/html": [
              "<style>#sk-container-id-1 {color: black;}#sk-container-id-1 pre{padding: 0;}#sk-container-id-1 div.sk-toggleable {background-color: white;}#sk-container-id-1 label.sk-toggleable__label {cursor: pointer;display: block;width: 100%;margin-bottom: 0;padding: 0.3em;box-sizing: border-box;text-align: center;}#sk-container-id-1 label.sk-toggleable__label-arrow:before {content: \"▸\";float: left;margin-right: 0.25em;color: #696969;}#sk-container-id-1 label.sk-toggleable__label-arrow:hover:before {color: black;}#sk-container-id-1 div.sk-estimator:hover label.sk-toggleable__label-arrow:before {color: black;}#sk-container-id-1 div.sk-toggleable__content {max-height: 0;max-width: 0;overflow: hidden;text-align: left;background-color: #f0f8ff;}#sk-container-id-1 div.sk-toggleable__content pre {margin: 0.2em;color: black;border-radius: 0.25em;background-color: #f0f8ff;}#sk-container-id-1 input.sk-toggleable__control:checked~div.sk-toggleable__content {max-height: 200px;max-width: 100%;overflow: auto;}#sk-container-id-1 input.sk-toggleable__control:checked~label.sk-toggleable__label-arrow:before {content: \"▾\";}#sk-container-id-1 div.sk-estimator input.sk-toggleable__control:checked~label.sk-toggleable__label {background-color: #d4ebff;}#sk-container-id-1 div.sk-label input.sk-toggleable__control:checked~label.sk-toggleable__label {background-color: #d4ebff;}#sk-container-id-1 input.sk-hidden--visually {border: 0;clip: rect(1px 1px 1px 1px);clip: rect(1px, 1px, 1px, 1px);height: 1px;margin: -1px;overflow: hidden;padding: 0;position: absolute;width: 1px;}#sk-container-id-1 div.sk-estimator {font-family: monospace;background-color: #f0f8ff;border: 1px dotted black;border-radius: 0.25em;box-sizing: border-box;margin-bottom: 0.5em;}#sk-container-id-1 div.sk-estimator:hover {background-color: #d4ebff;}#sk-container-id-1 div.sk-parallel-item::after {content: \"\";width: 100%;border-bottom: 1px solid gray;flex-grow: 1;}#sk-container-id-1 div.sk-label:hover label.sk-toggleable__label {background-color: #d4ebff;}#sk-container-id-1 div.sk-serial::before {content: \"\";position: absolute;border-left: 1px solid gray;box-sizing: border-box;top: 0;bottom: 0;left: 50%;z-index: 0;}#sk-container-id-1 div.sk-serial {display: flex;flex-direction: column;align-items: center;background-color: white;padding-right: 0.2em;padding-left: 0.2em;position: relative;}#sk-container-id-1 div.sk-item {position: relative;z-index: 1;}#sk-container-id-1 div.sk-parallel {display: flex;align-items: stretch;justify-content: center;background-color: white;position: relative;}#sk-container-id-1 div.sk-item::before, #sk-container-id-1 div.sk-parallel-item::before {content: \"\";position: absolute;border-left: 1px solid gray;box-sizing: border-box;top: 0;bottom: 0;left: 50%;z-index: -1;}#sk-container-id-1 div.sk-parallel-item {display: flex;flex-direction: column;z-index: 1;position: relative;background-color: white;}#sk-container-id-1 div.sk-parallel-item:first-child::after {align-self: flex-end;width: 50%;}#sk-container-id-1 div.sk-parallel-item:last-child::after {align-self: flex-start;width: 50%;}#sk-container-id-1 div.sk-parallel-item:only-child::after {width: 0;}#sk-container-id-1 div.sk-dashed-wrapped {border: 1px dashed gray;margin: 0 0.4em 0.5em 0.4em;box-sizing: border-box;padding-bottom: 0.4em;background-color: white;}#sk-container-id-1 div.sk-label label {font-family: monospace;font-weight: bold;display: inline-block;line-height: 1.2em;}#sk-container-id-1 div.sk-label-container {text-align: center;}#sk-container-id-1 div.sk-container {/* jupyter's `normalize.less` sets `[hidden] { display: none; }` but bootstrap.min.css set `[hidden] { display: none !important; }` so we also need the `!important` here to be able to override the default hidden behavior on the sphinx rendered scikit-learn.org. See: https://github.com/scikit-learn/scikit-learn/issues/21755 */display: inline-block !important;position: relative;}#sk-container-id-1 div.sk-text-repr-fallback {display: none;}</style><div id=\"sk-container-id-1\" class=\"sk-top-container\"><div class=\"sk-text-repr-fallback\"><pre>KNeighborsClassifier(n_neighbors=3, weights=&#x27;distance&#x27;)</pre><b>In a Jupyter environment, please rerun this cell to show the HTML representation or trust the notebook. <br />On GitHub, the HTML representation is unable to render, please try loading this page with nbviewer.org.</b></div><div class=\"sk-container\" hidden><div class=\"sk-item\"><div class=\"sk-estimator sk-toggleable\"><input class=\"sk-toggleable__control sk-hidden--visually\" id=\"sk-estimator-id-1\" type=\"checkbox\" checked><label for=\"sk-estimator-id-1\" class=\"sk-toggleable__label sk-toggleable__label-arrow\">KNeighborsClassifier</label><div class=\"sk-toggleable__content\"><pre>KNeighborsClassifier(n_neighbors=3, weights=&#x27;distance&#x27;)</pre></div></div></div></div></div>"
            ],
            "text/plain": [
              "KNeighborsClassifier(n_neighbors=3, weights='distance')"
            ]
          },
          "execution_count": 22,
          "metadata": {},
          "output_type": "execute_result"
        }
      ],
      "source": [
        "from sklearn import neighbors\n",
        "k2 = neighbors.KNeighborsClassifier(n_neighbors=3, weights='distance')\n",
        "k2.fit(training_data_, training_labels)"
      ]
    },
    {
      "cell_type": "markdown",
      "id": "053886d0",
      "metadata": {
        "id": "053886d0"
      },
      "source": [
        "## Use the trained KNeighborsClassifier model (k2) to predict the labels for the test data (test_data_)\n",
        ""
      ]
    },
    {
      "cell_type": "code",
      "execution_count": null,
      "id": "4972955f",
      "metadata": {
        "id": "4972955f",
        "outputId": "c767a8a0-89d4-4c04-e72e-8b5f488fc028"
      },
      "outputs": [
        {
          "name": "stdout",
          "output_type": "stream",
          "text": [
            "['normal' 'normal' 'normal' 'normal' 'normal' 'normal' 'normal' 'normal'\n",
            " 'normal' 'normal' 'normal' 'normal' 'normal' 'normal' 'normal' 'normal'\n",
            " 'normal' 'normal' 'normal' 'normal' 'normal' 'normal' 'normal' 'normal'\n",
            " 'normal' 'normal' 'normal' 'normal' 'normal' 'normal' 'normal']\n"
          ]
        }
      ],
      "source": [
        "k2_pred = k2.predict(test_data_)\n",
        "print(k2_pred)"
      ]
    },
    {
      "cell_type": "code",
      "execution_count": null,
      "id": "9dfac97b",
      "metadata": {
        "id": "9dfac97b",
        "outputId": "cb78a61a-f64e-4a7f-fd0b-b53f1b12eb77"
      },
      "outputs": [
        {
          "data": {
            "image/png": "[encoded data removed]",
            "text/plain": [
              "<Figure size 640x480 with 1 Axes>"
            ]
          },
          "metadata": {},
          "output_type": "display_data"
        },
        {
          "name": "stdout",
          "output_type": "stream",
          "text": [
            "Optimal k value: 1\n"
          ]
        }
      ],
      "source": [
        "accuracy_scores = []\n",
        "k_values = range(1, 21)\n",
        "# Iterate over each k value\n",
        "for k in k_values:\n",
        "    # Create a KNN classifier with the current k value\n",
        "    knn = KNeighborsClassifier(n_neighbors=k)\n",
        "\n",
        "    # Train the classifier on the training data\n",
        "    knn.fit(training_data_, training_labels)\n",
        "\n",
        "    # Evaluate the classifier on the testing data and compute accuracy\n",
        "    accuracy = knn.score(test_data_, test_labels)\n",
        "\n",
        "    # Append the accuracy score to the list\n",
        "    accuracy_scores.append(accuracy)\n",
        "\n",
        "# Plot the accuracy scores as a function of k\n",
        "plt.plot(k_values, accuracy_scores, marker='o')\n",
        "plt.xlabel('k')\n",
        "plt.ylabel('Accuracy')\n",
        "plt.title('Accuracy vs. k for KNN Classifier')\n",
        "plt.xticks(k_values)\n",
        "plt.grid(True)\n",
        "plt.show()\n",
        "\n",
        "# Find the optimal k value based on the elbow point\n",
        "optimal_k = np.argmax(accuracy_scores) + 1\n",
        "print(\"Optimal k value:\", optimal_k)"
      ]
    },
    {
      "cell_type": "code",
      "execution_count": null,
      "id": "6ed3ce85",
      "metadata": {
        "id": "6ed3ce85"
      },
      "outputs": [],
      "source": [
        "from sklearn.metrics import accuracy_score\n",
        "acc = accuracy_score(test_labels, k2_pred)"
      ]
    },
    {
      "cell_type": "code",
      "execution_count": null,
      "id": "e5a9eca1",
      "metadata": {
        "id": "e5a9eca1",
        "outputId": "d2e06699-e3c4-484a-c0f1-387a2fcea520"
      },
      "outputs": [
        {
          "name": "stdout",
          "output_type": "stream",
          "text": [
            "0.6129032258064516\n"
          ]
        }
      ],
      "source": [
        "print(acc)"
      ]
    },
    {
      "cell_type": "code",
      "execution_count": null,
      "id": "51e3a906",
      "metadata": {
        "id": "51e3a906",
        "outputId": "46cac2e0-fc65-4952-ba40-40e0760e9390"
      },
      "outputs": [
        {
          "name": "stdout",
          "output_type": "stream",
          "text": [
            "Confusion Matrix - Normal:\n",
            "[19, 12]\n",
            "[0, 0]\n",
            "\n",
            "Confusion Matrix - Drag Disc:\n",
            "[0, 0]\n",
            "[0, 31]\n",
            "\n",
            "Confusion Matrix - Laser Sport:\n",
            "[0, 0]\n",
            "[0, 31]\n"
          ]
        }
      ],
      "source": [
        "# Initialize variables to count TP, FP, TN, FN for each class\n",
        "true_positive_normal = 0\n",
        "false_positive_normal = 0\n",
        "true_negative_normal = 0\n",
        "false_negative_normal = 0\n",
        "\n",
        "true_positive_drag_disc = 0\n",
        "false_positive_drag_disc = 0\n",
        "true_negative_drag_disc = 0\n",
        "false_negative_drag_disc = 0\n",
        "\n",
        "true_positive_laser_sport = 0\n",
        "false_positive_laser_sport = 0\n",
        "true_negative_laser_sport = 0\n",
        "false_negative_laser_sport = 0\n",
        "\n",
        "# Iterate through predictions and actual labels\n",
        "for i in range(len(k2_pred)):\n",
        "    if k2_pred[i] == 'normal' and test_labels[i] == 'normal':\n",
        "        true_positive_normal += 1\n",
        "    if k2_pred[i] == 'normal' and test_labels[i] != 'normal':\n",
        "        false_positive_normal += 1\n",
        "    if k2_pred[i] != 'normal' and test_labels[i] != 'normal':\n",
        "        true_negative_normal += 1\n",
        "    if k2_pred[i] != 'normal' and test_labels[i] == 'normal':\n",
        "        false_negative_normal += 1\n",
        "\n",
        "    if k2_pred[i] == 'drag_disc' and test_labels[i] == 'drag_disc':\n",
        "        true_positive_drag_disc += 1\n",
        "    if k2_pred[i] == 'drag_disc' and test_labels[i] != 'drag_disc':\n",
        "        false_positive_drag_disc += 1\n",
        "    if k2_pred[i] != 'drag_disc' and test_labels[i] != 'drag_disc':\n",
        "        true_negative_drag_disc += 1\n",
        "    if k2_pred[i] != 'drag_disc' and test_labels[i] == 'drag_disc':\n",
        "        false_negative_drag_disc += 1\n",
        "\n",
        "    if k2_pred[i] == 'laser_sport' and test_labels[i] == 'laser_sport':\n",
        "        true_positive_laser_sport += 1\n",
        "    if k2_pred[i] == 'laser_sport' and test_labels[i] != 'laser_sport':\n",
        "        false_positive_laser_sport += 1\n",
        "    if k2_pred[i] != 'laser_sport' and test_labels[i] != 'laser_sport':\n",
        "        true_negative_laser_sport += 1\n",
        "    if k2_pred[i] != 'laser_sport' and test_labels[i] == 'laser_sport':\n",
        "        false_negative_laser_sport += 1\n",
        "\n",
        "# Construct confusion matrices\n",
        "conf_matrix_normal = [[true_positive_normal, false_positive_normal],\n",
        "                      [false_negative_normal, true_negative_normal]]\n",
        "\n",
        "conf_matrix_drag_disc = [[true_positive_drag_disc, false_positive_drag_disc],\n",
        "                         [false_negative_drag_disc, true_negative_drag_disc]]\n",
        "\n",
        "conf_matrix_laser_sport = [[true_positive_laser_sport, false_positive_laser_sport],\n",
        "                            [false_negative_laser_sport, true_negative_laser_sport]]\n",
        "\n",
        "# Print confusion matrices\n",
        "print(\"Confusion Matrix - Normal:\")\n",
        "for row in conf_matrix_normal:\n",
        "    print(row)\n",
        "\n",
        "print(\"\\nConfusion Matrix - Drag Disc:\")\n",
        "for row in conf_matrix_drag_disc:\n",
        "    print(row)\n",
        "\n",
        "print(\"\\nConfusion Matrix - Laser Sport:\")\n",
        "for row in conf_matrix_laser_sport:\n",
        "    print(row)\n"
      ]
    },
    {
      "cell_type": "code",
      "execution_count": null,
      "id": "682fa777",
      "metadata": {
        "id": "682fa777"
      },
      "outputs": [],
      "source": []
    },
    {
      "cell_type": "code",
      "execution_count": null,
      "id": "96fa7600",
      "metadata": {
        "id": "96fa7600",
        "outputId": "82c981fa-3111-4a2a-b022-cb2cdeecd93c"
      },
      "outputs": [
        {
          "name": "stdout",
          "output_type": "stream",
          "text": [
            "Model Accuracy: 0.6129032258064516\n"
          ]
        }
      ],
      "source": [
        "# Calculate total number of predictions\n",
        "total_predictions = len(k2_pred)\n",
        "\n",
        "# Calculate total number of correct predictions\n",
        "total_correct = true_positive_normal + true_positive_drag_disc + true_positive_laser_sport\n",
        "\n",
        "# Calculate accuracy\n",
        "accuracy = total_correct / total_predictions\n",
        "\n",
        "# Print accuracy\n",
        "print(\"Model Accuracy:\", accuracy)\n"
      ]
    },
    {
      "cell_type": "code",
      "execution_count": null,
      "id": "6f31e05e",
      "metadata": {
        "id": "6f31e05e"
      },
      "outputs": [],
      "source": []
    },
    {
      "cell_type": "code",
      "execution_count": null,
      "id": "e3d93f43",
      "metadata": {
        "id": "e3d93f43"
      },
      "outputs": [],
      "source": []
    },
    {
      "cell_type": "code",
      "execution_count": null,
      "id": "37cd831f",
      "metadata": {
        "id": "37cd831f"
      },
      "outputs": [],
      "source": []
    }
  ],
  "metadata": {
    "kernelspec": {
      "display_name": "Python 3 (ipykernel)",
      "language": "python",
      "name": "python3"
    },
    "language_info": {
      "codemirror_mode": {
        "name": "ipython",
        "version": 3
      },
      "file_extension": ".py",
      "mimetype": "text/x-python",
      "name": "python",
      "nbconvert_exporter": "python",
      "pygments_lexer": "ipython3",
      "version": "3.11.5"
    },
    "colab": {
      "provenance": [],
      "include_colab_link": true
    }
  },
  "nbformat": 4,
  "nbformat_minor": 5
}